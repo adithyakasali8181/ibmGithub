{
 "cells": [
  {
   "cell_type": "markdown",
   "metadata": {},
   "source": [
    "# Capstone Report"
   ]
  },
  {
   "cell_type": "markdown",
   "metadata": {},
   "source": [
    "### Finding The Optimal Neighborhood For Any Venue Type In New York City "
   ]
  },
  {
   "cell_type": "markdown",
   "metadata": {},
   "source": [
    "#### Introduction / Busniess Problem"
   ]
  },
  {
   "cell_type": "markdown",
   "metadata": {},
   "source": [
    "New York City is known as the financial capital of the world with residents making 93,000 dollars per capita. As an intelligent and ambitiuous entrepreneur, you look to start a business in New York City in hopes to fulfilling the American Dream. However, the criminal activity in New York City raises some red flags and you become cautious about where to start a business.  \n",
    "  \n",
    "For the capstone project, we look to consider crime data from each borrough and extrapolate any correlation between crime in a borough and venue category and make recommendation on which borough to establish your business based on the type of venue."
   ]
  },
  {
   "cell_type": "markdown",
   "metadata": {},
   "source": [
    "#### Data Portion"
   ]
  },
  {
   "cell_type": "markdown",
   "metadata": {},
   "source": [
    "For this project, we will utilize the following resources:\n",
    "    - The newyork borough, latitude, longitude data set given in the labs from this url:\n",
    "    https://cocl.us/new_york_dataset\n",
    "    - New York Police Department Complaints data from this url:\n",
    "    https://data.cityofnewyork.us/Public-Safety/NYPD-Complaint-Data-Current-Year-To-Date-/5uac-w243\n",
    "    - The Fourspare API to gather venues from all the boroughs in New York City."
   ]
  },
  {
   "cell_type": "markdown",
   "metadata": {},
   "source": [
    "We will get all the venues from each borough and organize the crime data into misdemeanors and felonies. From there, we will count up the misdemeaors and felonies for each borough to be store this in our featues dataframe with the venues category. For the target variables, we will have a latitude and longitiude of the venues. As a consequence, we can recommend a borough based on the venue type that an entreprenuer is looking to establish."
   ]
  },
  {
   "cell_type": "code",
   "execution_count": null,
   "metadata": {},
   "outputs": [],
   "source": []
  }
 ],
 "metadata": {
  "kernelspec": {
   "display_name": "Python 3",
   "language": "python",
   "name": "python3"
  },
  "language_info": {
   "codemirror_mode": {
    "name": "ipython",
    "version": 3
   },
   "file_extension": ".py",
   "mimetype": "text/x-python",
   "name": "python",
   "nbconvert_exporter": "python",
   "pygments_lexer": "ipython3",
   "version": "3.7.3"
  }
 },
 "nbformat": 4,
 "nbformat_minor": 2
}
