{
 "cells": [
  {
   "cell_type": "markdown",
   "metadata": {},
   "source": [
    "# **Capstone Report**"
   ]
  },
  {
   "cell_type": "markdown",
   "metadata": {},
   "source": [
    "### **Evaluating A Effective Restaurant Location in Manhattan** "
   ]
  },
  {
   "cell_type": "markdown",
   "metadata": {},
   "source": [
    "#### **Introduction / Busniess Problem**"
   ]
  },
  {
   "cell_type": "markdown",
   "metadata": {},
   "source": [
    "New York City is known as the financial capital of the world with residents making 93,000 dollars per capita. Almost 1 in 38 people living in the United States lives in New York City, making New York City the densest populated city in the U.S. As an intelligent and ambitiuous entrepreneur, you look to start a restaurant in New York City but don't know where to purchase land to start establishing a business or whether the plot you are looking at is a good place to start a restaurant. "
   ]
  },
  {
   "cell_type": "markdown",
   "metadata": {},
   "source": [
    "![alt text](nyBoro.jpg)"
   ]
  },
  {
   "cell_type": "markdown",
   "metadata": {},
   "source": [
    "Rather than looking at all the boroughs, I chose to work primarily on the Manhattan borough due to familiarity and for the fact we can draw specific insights about Manhattan.\n",
    "\n",
    "For the capstone project, we look to utilize Foursquare API to query all the venues in Manhattan and provide a recommendation for whether a site could be a prime location for a restaurant or not."
   ]
  },
  {
   "cell_type": "markdown",
   "metadata": {},
   "source": [
    "#### **Data Portion**"
   ]
  },
  {
   "cell_type": "markdown",
   "metadata": {},
   "source": [
    "For this project, we will utilize the newyork borough, latitude, longitude data set given in the labs from this url: https://cocl.us/new_york_dataset\n",
    "\n",
    "We will use the following steps to understand the data being used:"
   ]
  },
  {
   "cell_type": "markdown",
   "metadata": {},
   "source": [
    "1. Filter out all the Manhattan neighborhoods from the \"*new_york_dataset.csv*\" file.\n",
    "2. Utilize the **Folium** to visualize the neighborhood to be dealt with.\n",
    "3. Using the **Foursquare API**, we query the venues from all the neighborhoods of Manhattan and further visualize the venues that are restaurants and the venues that are not."
   ]
  },
  {
   "cell_type": "markdown",
   "metadata": {},
   "source": [
    "Let us look at the neighborhoods we will be looking at in Manhattan:"
   ]
  },
  {
   "cell_type": "markdown",
   "metadata": {},
   "source": [
    "![alt text](nycManhattanNeighborhoods.png)"
   ]
  },
  {
   "cell_type": "markdown",
   "metadata": {},
   "source": [
    "After querying the venues using the Foursquare API, we get all the venues in Manhattan. Listed below are all the queried venues:"
   ]
  },
  {
   "cell_type": "markdown",
   "metadata": {},
   "source": [
    "![alt text](queriedVenues.png)"
   ]
  },
  {
   "cell_type": "markdown",
   "metadata": {},
   "source": [
    "Before we go any further, it would be appropirate to mention the assumptions I made for this project that will be reflected in the data preparation and modeling of the data. First of all, the query from the Foursquare API gives the venues category of a particular venue. Therefore, utilizing some pandas dataframe commands, I was able to find all the rows where the venues category had the word \"restaurant\" in it. From there on, I converted that column into a binary format of variables \"Yes\" and \"No\" , where \"Yes\" meant that the venue is a restaurant and \"No\" meant that the venues is not a restaurant. We are basing the recommendation of just the location data and if the data point is a restaurant, while not considering other pertinent factors."
   ]
  },
  {
   "cell_type": "markdown",
   "metadata": {},
   "source": [
    "After labelling the venues data, we have the following:"
   ]
  },
  {
   "cell_type": "markdown",
   "metadata": {},
   "source": [
    "![alt text](labeledData.png)"
   ]
  },
  {
   "cell_type": "markdown",
   "metadata": {},
   "source": [
    "***Initial Observation of Data:***\n",
    "The most popular type of restaurant in Manhattan are as follows:\n",
    "1. Italian\n",
    "2. American\n",
    "3. Mexican\n",
    "4. Chinese and French (Tied)\n",
    "5. Sushi\n",
    "  \n",
    "Another fact is that the **ratio of restaurant venues to total venues is about 1/3**, which is important further in the analysis."
   ]
  },
  {
   "cell_type": "markdown",
   "metadata": {},
   "source": [
    "#### **Methodology**"
   ]
  },
  {
   "cell_type": "markdown",
   "metadata": {},
   "source": [
    "Since we would like to classify a specific location (i.e. Latitude and Longitude data) of a site in Manhattan, we will utilize all the classification algorithms explained in the course so far.\n",
    "\n",
    "**Algorithms:** \n",
    "* K nearest neighbors - groups the data into the various cases based on distance (proximity). 1 to 20 nearest neighbors will be used find the best accuracy. \n",
    "* Decision trees - a graph where each node is a test which determine the cases of data. The algorithm will be checked with decision tree depths 1 to 10 to find the best accuracy.\n",
    "* Support vector machines - groups various cases by drawing a optimal decision boundary between various cases. We will use the \"rbg\" solver.\n",
    "* Logistic regression - models the probability of the classes using the logitic function. We will use the \"liblinear\" solver.\n",
    "\n"
   ]
  },
  {
   "cell_type": "markdown",
   "metadata": {},
   "source": [
    "#### Results"
   ]
  },
  {
   "cell_type": "markdown",
   "metadata": {},
   "source": [
    "The following the chart contains the accuracy scores of various algorithms we utilized for this project.\n",
    "\n",
    "![alt text](table.png)"
   ]
  },
  {
   "cell_type": "markdown",
   "metadata": {},
   "source": [
    "After the training and testing for each algorithms, here are the optimal parameters:\n",
    "* K Nearest Neighors performs best with k = 20 neighbors\n",
    "* The Decision Tree performs the same with for all given heights 1 to 10. This makes sense since we have one feature.\n",
    "\n",
    "It seems like KNN algorithm works best since both the Jaccard score and the F1-score are higher than the rest of the algorithms. This means that the KNN algorithm performs well with both the outside data (i.e. the evalution set) and the data set used to train the model when compared to the other algorithms.\n"
   ]
  },
  {
   "cell_type": "markdown",
   "metadata": {},
   "source": [
    "#### Discussion & Conclusion"
   ]
  },
  {
   "cell_type": "markdown",
   "metadata": {},
   "source": [
    "The results show that the decision tree model might not have been appropriate for this project for a few reasons. The biggest reason being the fact that there is one feature that we evaluate a effective development location. Unsuprisingly, the K nearest neighbors algorithm performed well as it clustered based one proximity. As we can see in the folium map of the labeled data, restaurants for the most part were clustered close to each other.\n",
    "\n",
    "Considering that the 1/3 of the venues are restaurants, there might be a bias from the number of non restaurant venues. Futhermore, there are venues types that are eatries or restaurants such as cafes, sandwich shops, etc that could also fall into the category of \"restaurants.\" \n",
    "\n",
    "Since we are making a evaluation of if a plot is a good fit to start a restaurant on, in the future, it might we good to collect financial information, traffic information, etc to make a proper judgement on good fit. "
   ]
  },
  {
   "cell_type": "code",
   "execution_count": null,
   "metadata": {},
   "outputs": [],
   "source": []
  }
 ],
 "metadata": {
  "kernelspec": {
   "display_name": "Python 3",
   "language": "python",
   "name": "python3"
  },
  "language_info": {
   "codemirror_mode": {
    "name": "ipython",
    "version": 3
   },
   "file_extension": ".py",
   "mimetype": "text/x-python",
   "name": "python",
   "nbconvert_exporter": "python",
   "pygments_lexer": "ipython3",
   "version": "3.7.3"
  }
 },
 "nbformat": 4,
 "nbformat_minor": 2
}
